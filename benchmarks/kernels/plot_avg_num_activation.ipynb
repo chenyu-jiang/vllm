{
 "cells": [
  {
   "cell_type": "code",
   "execution_count": 14,
   "metadata": {},
   "outputs": [],
   "source": [
    "import matplotlib.pyplot as plt\n",
    "import matplotlib.ticker as ticker\n",
    "import seaborn as sns\n",
    "import pandas as pd\n",
    "import numpy as np\n",
    "from scipy.special import softmax\n",
    "from tqdm import trange\n"
   ]
  },
  {
   "cell_type": "code",
   "execution_count": 2,
   "metadata": {},
   "outputs": [],
   "source": [
    "# generate random expert selection data\n",
    "np.random.seed(0)\n",
    "n_experts = 8\n",
    "top_k = 2\n",
    "\n",
    "def get_n_active_experts(bs, n_experts, top_k):\n",
    "    expert_selection = np.random.rand(bs, n_experts)\n",
    "    expert_selection = softmax(expert_selection, axis=1)\n",
    "    expert_selection = np.argsort(expert_selection, axis=1)\n",
    "    expert_selection = expert_selection[:, -top_k:]\n",
    "    return len(np.unique(expert_selection))"
   ]
  },
  {
   "cell_type": "code",
   "execution_count": 8,
   "metadata": {},
   "outputs": [],
   "source": [
    "bses = []\n",
    "n_active_experts = []\n",
    "for bs in [1, 2, 4, 8, 16, 32, 64, 128]:\n",
    "    avg_n_active_experts = np.mean([get_n_active_experts(bs, n_experts, top_k) for _ in range(10000)])\n",
    "    bses.append(bs)\n",
    "    n_active_experts.append(avg_n_active_experts)"
   ]
  },
  {
   "cell_type": "code",
   "execution_count": 9,
   "metadata": {},
   "outputs": [
    {
     "data": {
      "text/plain": [
       "[2.0, 3.5088, 5.4684, 7.1993, 7.9142, 7.9992, 8.0, 8.0]"
      ]
     },
     "execution_count": 9,
     "metadata": {},
     "output_type": "execute_result"
    }
   ],
   "source": [
    "n_active_experts"
   ]
  },
  {
   "cell_type": "code",
   "execution_count": 22,
   "metadata": {},
   "outputs": [
    {
     "data": {
      "image/png": "[encoded data removed]",
      "text/plain": [
       "<Figure size 400x200 with 1 Axes>"
      ]
     },
     "metadata": {},
     "output_type": "display_data"
    }
   ],
   "source": [
    "df = pd.DataFrame({'Batch size': bses, '# Active Experts': n_active_experts})\n",
    "df[\"Batch size\"] = pd.Categorical(df[\"Batch size\"], categories=bses)\n",
    "fig, ax = plt.subplots(1, 1, figsize=(4, 2))\n",
    "ax = sns.lineplot(data=df, x='Batch size', y='# Active Experts', ax=ax)\n",
    "ax.set_xscale('log', base=2)\n",
    "ax.xaxis.set_major_formatter(plt.FuncFormatter(lambda x, _: int(x)))\n",
    "ax.xaxis.set_major_locator(ticker.LogLocator(base=2.0, numticks=12))"
   ]
  },
  {
   "cell_type": "code",
   "execution_count": 23,
   "metadata": {},
   "outputs": [],
   "source": [
    "fig.savefig('active_experts_vs_batch_size.png', bbox_inches='tight')"
   ]
  },
  {
   "cell_type": "code",
   "execution_count": null,
   "metadata": {},
   "outputs": [],
   "source": []
  }
 ],
 "metadata": {
  "kernelspec": {
   "display_name": "Python 3",
   "language": "python",
   "name": "python3"
  },
  "language_info": {
   "codemirror_mode": {
    "name": "ipython",
    "version": 3
   },
   "file_extension": ".py",
   "mimetype": "text/x-python",
   "name": "python",
   "nbconvert_exporter": "python",
   "pygments_lexer": "ipython3",
   "version": "3.8.10"
  }
 },
 "nbformat": 4,
 "nbformat_minor": 2
}
